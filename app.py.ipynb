{
 "cells": [
  {
   "cell_type": "code",
   "execution_count": 7,
   "metadata": {},
   "outputs": [],
   "source": [
    "# import necessary libraries\n",
    "from flask import Flask, render_template, redirect\n",
    "from flask_pymongo import PyMongo\n",
    "# import scrape_info"
   ]
  },
  {
   "cell_type": "code",
   "execution_count": 3,
   "metadata": {},
   "outputs": [],
   "source": [
    "# init the Flask\n",
    "app = Flask(__name__)"
   ]
  },
  {
   "cell_type": "code",
   "execution_count": 8,
   "metadata": {},
   "outputs": [],
   "source": [
    "# Use flask_pymongo to set up mongo connection\n",
    "app.config[\"MONGO_URI\"] = \"mongodb://localhost:27017/weather_app\"\n",
    "mongo = PyMongo(app)"
   ]
  },
  {
   "cell_type": "code",
   "execution_count": 9,
   "metadata": {},
   "outputs": [],
   "source": [
    "# create route that renders index.html template and finds documents from mongo\n",
    "@app.route(\"/\")\n",
    "def home():\n",
    "\n",
    "    # Find data\n",
    "    mars = mongo.db.collection.find()\n",
    "\n",
    "    # return template and data\n",
    "    return render_template(\"index.html\", mars=mars)"
   ]
  },
  {
   "cell_type": "code",
   "execution_count": 10,
   "metadata": {},
   "outputs": [],
   "source": [
    "# Route that will trigger scrape functions\n",
    "@app.route(\"/scrape\")\n",
    "def scrape():\n",
    "\n",
    "    # Run scraped functions\n",
    "    weather = scrape_info.scrape_weather()\n",
    "    surf = scrape_info.scrape_surf()\n",
    "\n",
    "    # Store results into a dictionary\n",
    "    forecast = {\n",
    "        \"time\": weather[\"time\"],\n",
    "        \"location\": weather[\"name\"],\n",
    "        \"min_temp\": weather[\"min_temp\"],\n",
    "        \"max_temp\": weather[\"max_temp\"],\n",
    "        \"surf_location\": surf[\"location\"],\n",
    "        \"height\": surf[\"height\"],\n",
    "    }\n",
    "\n",
    "    # Insert forecast into database\n",
    "    mongo.db.collection.insert_one(forecast)\n",
    "\n",
    "    # Redirect back to home page\n",
    "    return redirect(\"/\", code=302)"
   ]
  },
  {
   "cell_type": "code",
   "execution_count": 12,
   "metadata": {},
   "outputs": [],
   "source": [
    "if __name__ == \"__main__\":\n",
    "    app.run(debug=True)"
   ]
  },
  {
   "cell_type": "code",
   "execution_count": null,
   "metadata": {},
   "outputs": [],
   "source": []
  }
 ],
 "metadata": {
  "kernelspec": {
   "display_name": "Python 3",
   "language": "python",
   "name": "python3"
  },
  "language_info": {
   "codemirror_mode": {
    "name": "ipython",
    "version": 3
   },
   "file_extension": ".py",
   "mimetype": "text/x-python",
   "name": "python",
   "nbconvert_exporter": "python",
   "pygments_lexer": "ipython3",
   "version": "3.6.6"
  }
 },
 "nbformat": 4,
 "nbformat_minor": 2
}
