{
 "cells": [
  {
   "cell_type": "code",
   "execution_count": 1,
   "metadata": {},
   "outputs": [],
   "source": [
    "# Importing dependencies\n",
    "\n",
    "from splinter import Browser\n",
    "from bs4 import BeautifulSoup\n",
    "import requests\n",
    "import pandas as pd\n",
    "# from tabulate import tabulate\n",
    "import time"
   ]
  },
  {
   "cell_type": "code",
   "execution_count": 2,
   "metadata": {},
   "outputs": [],
   "source": [
    "# !which chromedriver"
   ]
  },
  {
   "cell_type": "code",
   "execution_count": 3,
   "metadata": {},
   "outputs": [],
   "source": [
    "# Initialize browser\n",
    "# def init_browser():\n",
    "    # @NOTE: Replace the path with your actual path to the chromedriver\n",
    "executable_path = {\"executable_path\": \"chromedriver\"}\n",
    "browser = Browser(\"chrome\", **executable_path, headless=False)\n",
    "# return Browser(\"chrome\", **executable_path, headless=False)"
   ]
  },
  {
   "cell_type": "code",
   "execution_count": 4,
   "metadata": {},
   "outputs": [
    {
     "name": "stdout",
     "output_type": "stream",
     "text": [
      "Martian Skies Clearing over Opportunity Rover\n",
      "Clearing skies allow Opportunity rover engineers to plan for the future.\n"
     ]
    }
   ],
   "source": [
    "#Visit the NASA website\n",
    "url = \"https://mars.nasa.gov/news/\"\n",
    "browser.visit(url)\n",
    "time.sleep(1)\n",
    "\n",
    "# Scrape page into soup\n",
    "html = browser.html\n",
    "soup = BeautifulSoup(html, \"html.parser\")\n",
    "# print(html)\n",
    "\n",
    "# Collect the latest News Title and Paragraph Text\n",
    "news = soup.find(\"ul\", class_=\"item_list\")\n",
    "current_news = news.find(\"li\", class_=\"slide\")\n",
    "\n",
    "#Get article header and text\n",
    "news_header = current_news.find(\"div\", class_=\"content_title\").text\n",
    "news_text = current_news.find(\"div\", class_=\"article_teaser_body\").text\n",
    "print(news_header)\n",
    "print(news_text)"
   ]
  },
  {
   "cell_type": "code",
   "execution_count": 5,
   "metadata": {},
   "outputs": [],
   "source": [
    "# # visit the JPL website and scrape the featured image# visit \n",
    "# url = \"https://www.jpl.nasa.gov/spaceimages/?search=&category=Mars\"\n",
    "# browser.visit(url)\n",
    "# time.sleep(1)\n",
    "# browser.click_link_by_partial_text('FULL IMAGE')\n",
    "# time.sleep(1)\n",
    "# expand = browser.find_by_css('a.fancybox-expand')\n",
    "# expand.click()\n",
    "# time.sleep(1)\n",
    "\n",
    "# html = browser.html\n",
    "# img_soup = BeautifulSoup(html, \"html.parser\")\n",
    "\n",
    "# img = img_soup.find(\"img\", class_=\"fancybox-image\")[\"src\"]\n",
    "# featured_image_url = f\"https://www.jpl.nasa.gov{img}\"\n",
    "# print(featured_image_url)"
   ]
  },
  {
   "cell_type": "code",
   "execution_count": 6,
   "metadata": {},
   "outputs": [
    {
     "name": "stdout",
     "output_type": "stream",
     "text": [
      "https://www.jpl.nasa.gov/assets/images/logo_nasa_trio_black@2x.png\n"
     ]
    }
   ],
   "source": [
    "#Visit the NASA website\n",
    "url = \"https://www.jpl.nasa.gov/spaceimages/?search=&category=Mars\"\n",
    "browser.visit(url)\n",
    "time.sleep(1)\n",
    "find_image_id = browser.find_by_id(\"full_image\")\n",
    "find_image_id.click()\n",
    "\n",
    "# expand = browser.find_by_css('a.fancybox-expand')\n",
    "# expand.click()\n",
    "# time.sleep(1)\n",
    "\n",
    "browser.is_element_present_by_text(\"more info\", wait_time=1)\n",
    "find_moreInfo_button = browser.find_link_by_partial_text(\"more info\")\n",
    "find_moreInfo_button.click()\n",
    "\n",
    "html = browser.html\n",
    "img_soup = BeautifulSoup(html, \"html.parser\")\n",
    "\n",
    "\n",
    "# img = img_soup.find(\"img\", class_=\"fancybox-image\").get(\"src\")\n",
    "# featured_image_url = f\"https://www.jpl.nasa.gov{img}\"\n",
    "\n",
    "img = img_soup.select_one(\"body img\").get(\"src\")\n",
    "featured_image_url = f\"https://www.jpl.nasa.gov{img}\"\n",
    "\n",
    "print(featured_image_url)"
   ]
  },
  {
   "cell_type": "markdown",
   "metadata": {},
   "source": [
    "## Mars Weather"
   ]
  },
  {
   "cell_type": "code",
   "execution_count": 61,
   "metadata": {},
   "outputs": [],
   "source": [
    "#Visit the NASA website\n",
    "url = \"https://twitter.com/marswxreport?lang=en\"\n",
    "browser.visit(url)"
   ]
  },
  {
   "cell_type": "code",
   "execution_count": 62,
   "metadata": {},
   "outputs": [],
   "source": [
    "# Scrape page into soup\n",
    "html = browser.html\n",
    "soup = BeautifulSoup(html, \"html.parser\")"
   ]
  },
  {
   "cell_type": "code",
   "execution_count": 63,
   "metadata": {},
   "outputs": [
    {
     "name": "stdout",
     "output_type": "stream",
     "text": [
      "\n",
      "Clearing skies bring warmer days and cooler nights to Gale Crater.\n",
      "https://www.wral.com/clearing-mars-skies-raise-hope-for-rover-recovery/17814521/ …pic.twitter.com/RJhsDBXggH\n",
      "\n"
     ]
    }
   ],
   "source": [
    "# Get first Nasa Tweet \n",
    "mars_weather = soup.find(\n",
    "    \"div\", class_=\"js-tweet-text-container\").get_text()\n",
    "\n",
    "print(mars_weather)"
   ]
  },
  {
   "cell_type": "markdown",
   "metadata": {},
   "source": [
    "## Mars Facts"
   ]
  },
  {
   "cell_type": "code",
   "execution_count": 65,
   "metadata": {},
   "outputs": [
    {
     "name": "stdout",
     "output_type": "stream",
     "text": [
      "+----+----------------------+-------------------------------+\n",
      "|    | 0                    | 1                             |\n",
      "|----+----------------------+-------------------------------|\n",
      "|  0 | Equatorial Diameter: | 6,792 km                      |\n",
      "|  1 | Polar Diameter:      | 6,752 km                      |\n",
      "|  2 | Mass:                | 6.42 x 10^23 kg (10.7% Earth) |\n",
      "|  3 | Moons:               | 2 (Phobos & Deimos)           |\n",
      "|  4 | Orbit Distance:      | 227,943,824 km (1.52 AU)      |\n",
      "|  5 | Orbit Period:        | 687 days (1.9 years)          |\n",
      "|  6 | Surface Temperature: | -153 to 20 °C                 |\n",
      "|  7 | First Record:        | 2nd millennium BC             |\n",
      "|  8 | Recorded By:         | Egyptian astronomers          |\n",
      "+----+----------------------+-------------------------------+\n"
     ]
    }
   ],
   "source": [
    "res = requests.get(\"http://space-facts.com/mars/\")\n",
    "soup = BeautifulSoup(res.content,'lxml')\n",
    "table = soup.find_all('table')\n",
    "df = pd.read_html(str(table))\n",
    "\n",
    "# print(df)\n",
    "# print(df[0].to_json(orient='records'))\n",
    "print( tabulate(df[0], headers='keys', tablefmt='psql') )"
   ]
  },
  {
   "cell_type": "markdown",
   "metadata": {},
   "source": [
    "## Mars Hemispheres"
   ]
  },
  {
   "cell_type": "code",
   "execution_count": 92,
   "metadata": {},
   "outputs": [],
   "source": [
    "# Visit astrogeology.usgs.gov and Request site\n",
    "usgs_gov = \"https://astrogeology.usgs.gov/search/results?q=hemisphere+enhanced&k1=target&v1=Mars\"\n",
    "url_hem = requests.get(usgs_gov)\n",
    "hem_text = url_hem.text"
   ]
  },
  {
   "cell_type": "code",
   "execution_count": 93,
   "metadata": {},
   "outputs": [],
   "source": [
    "# Using Beautiful soup to read request... Scrape url text into soup\n",
    "hem_bsoup = BeautifulSoup(hem_text, \"html.parser\")"
   ]
  },
  {
   "cell_type": "code",
   "execution_count": 94,
   "metadata": {},
   "outputs": [],
   "source": [
    "# Assigning variables to each title\n",
    "hem_title_1 = hem_bsoup.find_all(\"h3\")[0].text\n",
    "hem_title_2 = hem_bsoup.find_all(\"h3\")[0].text\n",
    "hem_title_3 = hem_bsoup.find_all(\"h3\")[0].text\n",
    "hem_title_4 = hem_bsoup.find_all(\"h3\")[0].text"
   ]
  },
  {
   "cell_type": "code",
   "execution_count": 95,
   "metadata": {},
   "outputs": [],
   "source": [
    "# Scraping images\n",
    "url_hem = \"https://astrogeology.usgs.gov/search/results?q=hemisphere+enhanced&k1=target&v1=Mars\"\n",
    "browser.visit(url_hem)"
   ]
  },
  {
   "cell_type": "code",
   "execution_count": 96,
   "metadata": {},
   "outputs": [],
   "source": [
    "img_ = browser.find_link_by_partial_href(\"/search/map/Mars/Viking/cerberus_enhanced\")[1]\n",
    "img_.click()"
   ]
  },
  {
   "cell_type": "code",
   "execution_count": 114,
   "metadata": {},
   "outputs": [
    {
     "name": "stdout",
     "output_type": "stream",
     "text": [
      "[<splinter.driver.webdriver.WebDriverElement object at 0x000001BDE5C7AC50>]\n"
     ]
    }
   ],
   "source": [
    "# browser.is_element_present_by_text(\"Sample\", wait_time=1)\n",
    "find_sample_button = browser.find_by_text(\"Sample\")\n",
    "find_sample_button.click()\n",
    "print(find_sample_button)"
   ]
  },
  {
   "cell_type": "code",
   "execution_count": 98,
   "metadata": {},
   "outputs": [],
   "source": [
    "# Scrape page into soup\n",
    "html = browser.html\n",
    "img_hem_soup1 = BeautifulSoup(html, \"html.parser\")\n",
    "# print(img_hem_soup)"
   ]
  },
  {
   "cell_type": "code",
   "execution_count": 113,
   "metadata": {},
   "outputs": [
    {
     "data": {
      "text/plain": [
       "'/images/usgs_logo_main_2x.png'"
      ]
     },
     "execution_count": 113,
     "metadata": {},
     "output_type": "execute_result"
    }
   ],
   "source": [
    "image1 = img_hem_soup1.find(\"img\")[\"src\"]\n",
    "image1"
   ]
  },
  {
   "cell_type": "code",
   "execution_count": 106,
   "metadata": {},
   "outputs": [],
   "source": [
    "image_url1 = f\"https://astropedia.astrogeology.usgs.gov{image1}\""
   ]
  },
  {
   "cell_type": "code",
   "execution_count": 107,
   "metadata": {},
   "outputs": [
    {
     "name": "stdout",
     "output_type": "stream",
     "text": [
      "https://astropedia.astrogeology.usgs.gov/images/usgs_logo_main_2x.png\n"
     ]
    }
   ],
   "source": [
    "print(image_url1)"
   ]
  },
  {
   "cell_type": "code",
   "execution_count": null,
   "metadata": {},
   "outputs": [],
   "source": []
  }
 ],
 "metadata": {
  "kernelspec": {
   "display_name": "Python 3",
   "language": "python",
   "name": "python3"
  },
  "language_info": {
   "codemirror_mode": {
    "name": "ipython",
    "version": 3
   },
   "file_extension": ".py",
   "mimetype": "text/x-python",
   "name": "python",
   "nbconvert_exporter": "python",
   "pygments_lexer": "ipython3",
   "version": "3.6.6"
  }
 },
 "nbformat": 4,
 "nbformat_minor": 2
}
